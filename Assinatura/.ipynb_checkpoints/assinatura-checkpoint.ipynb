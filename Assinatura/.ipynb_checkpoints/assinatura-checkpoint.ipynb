{
 "cells": [
  {
   "cell_type": "markdown",
   "metadata": {},
   "source": [
    "## Bibliotecas"
   ]
  },
  {
   "cell_type": "code",
   "execution_count": 11,
   "metadata": {},
   "outputs": [
    {
     "name": "stdout",
     "output_type": "stream",
     "text": [
      "Defaulting to user installation because normal site-packages is not writeable\n",
      "Requirement already satisfied: scipy in /home/bianca/.local/lib/python3.8/site-packages (1.7.3)\n",
      "Requirement already satisfied: numpy<1.23.0,>=1.16.5 in /home/bianca/.local/lib/python3.8/site-packages (from scipy) (1.20.3)\n"
     ]
    }
   ],
   "source": [
    "import sys\n",
    "!{sys.executable} -m pip install scipy"
   ]
  },
  {
   "cell_type": "code",
   "execution_count": 12,
   "metadata": {},
   "outputs": [],
   "source": [
    "import librosa \n",
    "import numpy as np\n",
    "from math import pi,sin,cos\n",
    "from scipy.fft import fft\n",
    "from matplotlib import pyplot as plt "
   ]
  },
  {
   "cell_type": "markdown",
   "metadata": {},
   "source": [
    "## Fingerprinting e Relacionados"
   ]
  },
  {
   "cell_type": "code",
   "execution_count": 13,
   "metadata": {},
   "outputs": [],
   "source": [
    "def fingerprint(samples, sampling_rate,  channels=2, max_length=0)->np.ndarray:\n",
    "    \n",
    "    samples_per_window = int(sampling_rate*0.037) # Quantas samples por window \n",
    "    num_timeframes = int(max_length/samples_per_window) # Descobre quantos frames \n",
    "    num_bands = 25 # 25 bandas, segundo o artigo\n",
    "    \n",
    "    fngrprnt = np.empty([channels,num_timeframes-1,num_bands-1]) #Declarando o fingerprint\n",
    "    for k,ch in enumerate(samples):\n",
    "        \n",
    "        add_zero = num_timeframes - (max_length % num_timeframes) #Calculando quantos zeros serão \n",
    "                                                                  # necessários para um split exato\n",
    "\n",
    "        ch = np.append(ch,np.zeros(add_zero)) #Adicionando os zeros necessários\n",
    "\n",
    "        windows = np.split(ch,num_timeframes) #Dividindo a track em frames\n",
    "       \n",
    "        fft_windows = np.empty(np.shape(windows)) #Criando array que receberá as transformadas\n",
    "        for i,window in enumerate(windows):\n",
    "            fft_windows[i] = fft(window) #Montando os frames transformados\n",
    "\n",
    "        len_frame = int(len(ch)/num_timeframes)\n",
    "        add_bands_zero = num_bands - (len_frame % num_bands)#Calculando quantos zeros serão \n",
    "                                                            # necessários para um split exato\n",
    "        timeframe_bands = np.empty([num_timeframes,num_bands]) #Criando array que receberá as transformadas\n",
    "        for j,fft_window in enumerate(fft_windows):\n",
    "            aux = np.split(np.append(fft_window,np.zeros(add_bands_zero)),num_bands) # Adicionando os zeros \n",
    "                                                                                     #necessários e splitando\n",
    "            timeframe_bands[j] = average(aux) #Tirando a média de cada banda de energia e montando o array \n",
    "        \n",
    "        ch_fngrprnt = treat(timeframe_bands) # Gerando o fingerprint em si a partir das bandas\n",
    "\n",
    "        fngrprnt[k] = ch_fngrprnt #Montando o fingerprint do canal k \n",
    "    \n",
    "    return fngrprnt        "
   ]
  },
  {
   "cell_type": "code",
   "execution_count": 14,
   "metadata": {},
   "outputs": [],
   "source": [
    "def treat(timeframe_bands)->np.ndarray:\n",
    "    ch_fprint = np.empty([len(timeframe_bands),24])\n",
    "    bands_frame_anterior = np.zeros(24)\n",
    "    aux = np.empty(24)\n",
    "    for j,frame in enumerate(timeframe_bands):\n",
    "        \n",
    "        for i in range(len(frame)-1):\n",
    "            aux[i] = frame[i] - frame[i+1]\n",
    "            \n",
    "            if(aux[i]>bands_frame_anterior[i]):\n",
    "                ch_fprint[j][i] = int(1)\n",
    "            else: \n",
    "                ch_fprint[j][i] = int(-1)\n",
    "            bands_frame_anterior[i] = aux[i]\n",
    "    \n",
    "    \n",
    "     \n",
    "    return ch_fprint[1:]"
   ]
  },
  {
   "cell_type": "code",
   "execution_count": 15,
   "metadata": {},
   "outputs": [],
   "source": [
    "def average(array_list):\n",
    "    tam = len(array_list[0])\n",
    "    soma = 0.\n",
    "    aux = np.empty([len(array_list),])\n",
    "    for j,ary in enumerate(array_list):\n",
    "        for i in ary:\n",
    "            soma += i\n",
    "        aux[j] = soma/tam\n",
    "\n",
    "    return aux"
   ]
  },
  {
   "cell_type": "markdown",
   "metadata": {},
   "source": [
    "## FFT de Rodrigo"
   ]
  },
  {
   "cell_type": "code",
   "execution_count": 16,
   "metadata": {},
   "outputs": [],
   "source": [
    "def fft(f,N)->list:\n",
    "\n",
    "    # if there is only one item in the array, return THE ARRAY\n",
    "    if N <= 1:\n",
    "        return f\n",
    "\n",
    "    # generate inverted roots of unit (remember the formula of the terms)\n",
    "    theta = -2*pi/N\n",
    "    w = list( complex(cos(theta*k),sin(theta*k))  for k in range(N) ) \n",
    "    \n",
    "    # separate even and odd coefficients\n",
    "    Ceven = fft(f[0::2],N//2)\n",
    "    Codd =  fft(f[1::2],N//2)\n",
    "    \n",
    "    # array to hold the coefficients\n",
    "    C = [0]*N\n",
    "\n",
    "    # middle of the array\n",
    "    middle = N//2\n",
    "    for k in range(middle):\n",
    "        c_even   =    Ceven[k]\n",
    "        w_c_odd  =  w[k]*Codd[k]\n",
    "        \n",
    "        C[k]          = c_even + w_c_odd\n",
    "        C[k + middle] = c_even - w_c_odd\n",
    "\n",
    "    return C"
   ]
  },
  {
   "cell_type": "markdown",
   "metadata": {},
   "source": [
    "## DFT que eu fiz baseada na FFT de Rodrigo"
   ]
  },
  {
   "cell_type": "code",
   "execution_count": 17,
   "metadata": {},
   "outputs": [],
   "source": [
    "def dft(f,time_samples,freq_samples)->list:\n",
    "\n",
    "\n",
    "    # generate inverted roots of unit (remember the formula of the terms)\n",
    "    theta = -2*pi/time_samples\n",
    "    w = list( list(complex(cos(theta*u*k),sin(theta*u*k)) for k in range(time_samples)) for u in range(freq_samples)) \n",
    "    \n",
    "    C = [0]*freq_samples\n",
    "\n",
    "    for u in range(freq_samples):\n",
    "        for k in range(time_samples):\n",
    "            C[u] += f[k]*w[u][k]/time_samples\n",
    "\n",
    "    return C"
   ]
  },
  {
   "cell_type": "markdown",
   "metadata": {},
   "source": [
    "## Código feito por Rodrigo para plotar a fft"
   ]
  },
  {
   "cell_type": "code",
   "execution_count": 18,
   "metadata": {},
   "outputs": [],
   "source": [
    "def plot_transform(samples,coeff = None, coeff2 = None):\n",
    "    if coeff is None and coeff2 is None:\n",
    "        coeff = fft(samples,len(samples))\n",
    "        coeff2 = dft(samples,len(samples),len(samples))\n",
    "        \n",
    "    N = len(coeff)\n",
    "    coeff = list(abs(Complex)/N for Complex in coeff)\n",
    "    coeff2 = list(abs(Complex)/N for Complex in coeff2)\n",
    "\n",
    "    \n",
    "    figura = plt.figure(num=None, figsize=(10, 2), dpi=360, facecolor='w', edgecolor='k')\n",
    "    ax = figura.add_axes([0,0,1,1])\n",
    "    \n",
    "    frequencies = ['cte'] + list( str(i) for i in range(1,N))\n",
    "    ax.bar(frequencies,coeff)\n",
    "    plt.show()\n",
    "\n",
    "    figura2 = plt.figure(num=None, figsize=(10, 2), dpi=360, facecolor='w', edgecolor='k')\n",
    "    ax = figura2.add_axes([0,0,1,1])\n",
    "    ax.bar(frequencies,coeff2)\n",
    "    plt.show()\n",
    "\n",
    "    figura3 = plt.figure(num=None, figsize=(10, 2), dpi=360, facecolor='w', edgecolor='k')\n",
    "    ax = figura3.add_axes([0,0,1,1])\n",
    "    coeff3 = : fft() missifft(samples)\n",
    "    ax.bar(frequencies,coeff3)\n",
    "    plt.show()\n",
    "\n",
    "    figura4 = plt.figure(num=None, figsize=(12, 3), dpi=360, facecolor='w', edgecolor='k')\n",
    "    ax = figura4.add_axes([0,0,1,1])\n",
    "    ax.bar(list(range(len(samples))), samples)\n",
    "    plt.show()\n"
   ]
  },
  {
   "cell_type": "markdown",
   "metadata": {},
   "source": [
    "## Codigo feito por Rodrigo para gerar uma função periódica"
   ]
  },
  {
   "cell_type": "code",
   "execution_count": 19,
   "metadata": {},
   "outputs": [],
   "source": [
    "# auxiliar to be an array of y(t) values for some points\n",
    "# this will help us check if fft works by transforming periodic functions \n",
    "class exp:\n",
    "    def __init__(self,frequency = None):\n",
    "        self.f = frequency\n",
    "        if frequency is not None:\n",
    "            self.function = lambda t: complex(cos(2*pi*frequency*t),sin(2*pi*frequency*t))\n",
    "        self.measurements = None\n",
    "        self.N_samples = 32\n",
    "\n",
    "    def measure(self, N_samples = 32):\n",
    "        self.N_samples = N_samples\n",
    "        self.measurements = list(self.function(t) for t in range(N_samples) )\n",
    "        return  self.measurements\n",
    "        \n",
    "    def __add__(self,other):\n",
    "\n",
    "        if self.measurements is None:\n",
    "            self.measure()\n",
    "        if (other.measurements is None) or (self.N_samples == other.N_samples):\n",
    "            other.measure(self.N_samples)\n",
    "        \n",
    "        result = exp()\n",
    "        result.N_samples = self.N_samples\n",
    "        result.measurements = [0]*self.N_samples\n",
    "        result.function = lambda t:( self.function(t) + other.function(t) )\n",
    "\n",
    "        result.measure()\n",
    "\n",
    "        return result"
   ]
  },
  {
   "cell_type": "markdown",
   "metadata": {},
   "source": [
    "## Execução"
   ]
  },
  {
   "cell_type": "code",
   "execution_count": 20,
   "metadata": {},
   "outputs": [
    {
     "ename": "TypeError",
     "evalue": "fft() missing 1 required positional argument: 'N'",
     "output_type": "error",
     "traceback": [
      "\u001b[0;31m---------------------------------------------------------------------------\u001b[0m",
      "\u001b[0;31mTypeError\u001b[0m                                 Traceback (most recent call last)",
      "\u001b[0;32m/tmp/ipykernel_10968/1667251620.py\u001b[0m in \u001b[0;36m<module>\u001b[0;34m\u001b[0m\n\u001b[1;32m      1\u001b[0m \u001b[0msample\u001b[0m\u001b[0;34m,\u001b[0m \u001b[0msample_rate\u001b[0m \u001b[0;34m=\u001b[0m \u001b[0mlibrosa\u001b[0m\u001b[0;34m.\u001b[0m\u001b[0mload\u001b[0m\u001b[0;34m(\u001b[0m\u001b[0;34m\"consegui.wav\"\u001b[0m\u001b[0;34m,\u001b[0m \u001b[0msr\u001b[0m\u001b[0;34m=\u001b[0m\u001b[0;32mNone\u001b[0m\u001b[0;34m,\u001b[0m \u001b[0mmono\u001b[0m\u001b[0;34m=\u001b[0m\u001b[0;32mFalse\u001b[0m\u001b[0;34m)\u001b[0m \u001b[0;31m#Carrega o arquivo\u001b[0m\u001b[0;34m\u001b[0m\u001b[0;34m\u001b[0m\u001b[0m\n\u001b[0;32m----> 2\u001b[0;31m \u001b[0mfing\u001b[0m \u001b[0;34m=\u001b[0m \u001b[0mfingerprint\u001b[0m\u001b[0;34m(\u001b[0m\u001b[0;34m[\u001b[0m\u001b[0msample\u001b[0m\u001b[0;34m]\u001b[0m\u001b[0;34m,\u001b[0m\u001b[0msample_rate\u001b[0m\u001b[0;34m,\u001b[0m\u001b[0;36m1\u001b[0m\u001b[0;34m,\u001b[0m\u001b[0mlen\u001b[0m\u001b[0;34m(\u001b[0m\u001b[0msample\u001b[0m\u001b[0;34m)\u001b[0m\u001b[0;34m)\u001b[0m \u001b[0;31m#Faz a fingerprint\u001b[0m\u001b[0;34m\u001b[0m\u001b[0;34m\u001b[0m\u001b[0m\n\u001b[0m\u001b[1;32m      3\u001b[0m \u001b[0mprint\u001b[0m\u001b[0;34m(\u001b[0m\u001b[0mnp\u001b[0m\u001b[0;34m.\u001b[0m\u001b[0mshape\u001b[0m\u001b[0;34m(\u001b[0m\u001b[0mfing\u001b[0m\u001b[0;34m)\u001b[0m\u001b[0;34m)\u001b[0m\u001b[0;34m\u001b[0m\u001b[0;34m\u001b[0m\u001b[0m\n\u001b[1;32m      4\u001b[0m \u001b[0;34m\u001b[0m\u001b[0m\n\u001b[1;32m      5\u001b[0m \u001b[0;31m#### Tentando plotar e falhando miseravelmente ####\u001b[0m\u001b[0;34m\u001b[0m\u001b[0;34m\u001b[0m\u001b[0;34m\u001b[0m\u001b[0m\n",
      "\u001b[0;32m/tmp/ipykernel_10968/962173268.py\u001b[0m in \u001b[0;36mfingerprint\u001b[0;34m(samples, sampling_rate, channels, max_length)\u001b[0m\n\u001b[1;32m     17\u001b[0m         \u001b[0mfft_windows\u001b[0m \u001b[0;34m=\u001b[0m \u001b[0mnp\u001b[0m\u001b[0;34m.\u001b[0m\u001b[0mempty\u001b[0m\u001b[0;34m(\u001b[0m\u001b[0mnp\u001b[0m\u001b[0;34m.\u001b[0m\u001b[0mshape\u001b[0m\u001b[0;34m(\u001b[0m\u001b[0mwindows\u001b[0m\u001b[0;34m)\u001b[0m\u001b[0;34m)\u001b[0m \u001b[0;31m#Criando array que receberá as transformadas\u001b[0m\u001b[0;34m\u001b[0m\u001b[0;34m\u001b[0m\u001b[0m\n\u001b[1;32m     18\u001b[0m         \u001b[0;32mfor\u001b[0m \u001b[0mi\u001b[0m\u001b[0;34m,\u001b[0m\u001b[0mwindow\u001b[0m \u001b[0;32min\u001b[0m \u001b[0menumerate\u001b[0m\u001b[0;34m(\u001b[0m\u001b[0mwindows\u001b[0m\u001b[0;34m)\u001b[0m\u001b[0;34m:\u001b[0m\u001b[0;34m\u001b[0m\u001b[0;34m\u001b[0m\u001b[0m\n\u001b[0;32m---> 19\u001b[0;31m             \u001b[0mfft_windows\u001b[0m\u001b[0;34m[\u001b[0m\u001b[0mi\u001b[0m\u001b[0;34m]\u001b[0m \u001b[0;34m=\u001b[0m \u001b[0mfft\u001b[0m\u001b[0;34m(\u001b[0m\u001b[0mwindow\u001b[0m\u001b[0;34m)\u001b[0m \u001b[0;31m#Montando os frames transformados\u001b[0m\u001b[0;34m\u001b[0m\u001b[0;34m\u001b[0m\u001b[0m\n\u001b[0m\u001b[1;32m     20\u001b[0m \u001b[0;34m\u001b[0m\u001b[0m\n\u001b[1;32m     21\u001b[0m         \u001b[0mlen_frame\u001b[0m \u001b[0;34m=\u001b[0m \u001b[0mint\u001b[0m\u001b[0;34m(\u001b[0m\u001b[0mlen\u001b[0m\u001b[0;34m(\u001b[0m\u001b[0mch\u001b[0m\u001b[0;34m)\u001b[0m\u001b[0;34m/\u001b[0m\u001b[0mnum_timeframes\u001b[0m\u001b[0;34m)\u001b[0m\u001b[0;34m\u001b[0m\u001b[0;34m\u001b[0m\u001b[0m\n",
      "\u001b[0;31mTypeError\u001b[0m: fft() missing 1 required positional argument: 'N'"
     ]
    }
   ],
   "source": [
    "sample, sample_rate = librosa.load(\"consegui.wav\", sr=None, mono=False) #Carrega o arquivo\n",
    "fing = fingerprint([sample],sample_rate,1,len(sample)) #Faz a fingerprint\n",
    "print(np.shape(fing))\n",
    "\n",
    "#### Tentando plotar e falhando miseravelmente ####\n",
    "#figura = plt.figure(num=None, figsize=(10, 2), dpi=360, facecolor='w', edgecolor='k')\n",
    "#ax = figura.add_axes([0,0,1,1])\n",
    "\n",
    "#ax.plot(,)\n",
    "#plt.show()\n",
    "\n",
    "#### Aqui é caso alguem queira testar o fft de Rodrigo ####\n",
    "# freq = 1/32\n",
    "# e1,e2,e3 = exp(freq) , exp(2*freq) , exp(3*freq)\n",
    "\n",
    "# e22 = exp(22*freq) \n",
    "# e10 = exp(10*freq)\n",
    "\n",
    "# # had problems doing operator '*' overloading\n",
    "# # e = 2*e1 +          3*e2      +   e3 + 3*e10 + e22\n",
    "# e = e1 + e1    +    e2+e2+e2     +   e3  +  e10 +e10+e10  + e22\n",
    "#plot_transform(e.measurements)"
   ]
  }
 ],
 "metadata": {
  "kernelspec": {
   "display_name": "Python 3 (ipykernel)",
   "language": "python",
   "name": "python3"
  },
  "language_info": {
   "codemirror_mode": {
    "name": "ipython",
    "version": 3
   },
   "file_extension": ".py",
   "mimetype": "text/x-python",
   "name": "python",
   "nbconvert_exporter": "python",
   "pygments_lexer": "ipython3",
   "version": "3.8.10"
  }
 },
 "nbformat": 4,
 "nbformat_minor": 4
}
