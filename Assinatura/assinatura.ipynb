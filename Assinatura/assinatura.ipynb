{
 "cells": [
  {
   "cell_type": "markdown",
   "metadata": {},
   "source": [
    "## Bibliotecas"
   ]
  },
  {
   "cell_type": "code",
   "execution_count": 62,
   "metadata": {},
   "outputs": [
    {
     "name": "stdout",
     "output_type": "stream",
     "text": [
      "Defaulting to user installation because normal site-packages is not writeable\n",
      "Requirement already satisfied: scipy in /home/bianca/.local/lib/python3.8/site-packages (1.7.3)\n",
      "Requirement already satisfied: numpy<1.23.0,>=1.16.5 in /home/bianca/.local/lib/python3.8/site-packages (from scipy) (1.20.3)\n"
     ]
    }
   ],
   "source": [
    "import sys\n",
    "!{sys.executable} -m pip install scipy"
   ]
  },
  {
   "cell_type": "code",
   "execution_count": 63,
   "metadata": {},
   "outputs": [],
   "source": [
    "import librosa \n",
    "import numpy as np\n",
    "from math import pi,sin,cos\n",
    "from scipy.fft import fft\n",
    "from matplotlib import pyplot as plt \n",
    "from matplotlib import cm"
   ]
  },
  {
   "cell_type": "markdown",
   "metadata": {},
   "source": [
    "## Fingerprinting e Relacionados"
   ]
  },
  {
   "cell_type": "code",
   "execution_count": 64,
   "metadata": {},
   "outputs": [],
   "source": [
    "def fingerprint(samples, sampling_rate,  channels=2, max_length=0)->np.ndarray:\n",
    "    \n",
    "    samples_per_window = int(sampling_rate*0.037) # Quantas samples por window \n",
    "    num_timeframes = int(max_length/samples_per_window) # Descobre quantos frames \n",
    "    num_bands = 25 # 25 bandas, segundo o artigo\n",
    "    \n",
    "    fngrprnt = np.empty([channels,num_timeframes-1,num_bands-1]) #Declarando o fingerprint\n",
    "    for k,ch in enumerate(samples):\n",
    "        \n",
    "        add_zero = num_timeframes - (max_length % num_timeframes) #Calculando quantos zeros serão \n",
    "                                                                  # necessários para um split exato\n",
    "\n",
    "        ch = np.append(ch,np.zeros(add_zero)) #Adicionando os zeros necessários\n",
    "\n",
    "        windows = np.split(ch,num_timeframes) #Dividindo a track em frames\n",
    "       \n",
    "        fft_windows = np.empty(np.shape(windows)) #Criando array que receberá as transformadas\n",
    "        for i,window in enumerate(windows):\n",
    "            \n",
    "            fft_windows[i] = fft(window) #Montando os frames transformados\n",
    "\n",
    "        len_frame = int(len(ch)/num_timeframes)\n",
    "        add_bands_zero = num_bands - (len_frame % num_bands)#Calculando quantos zeros serão \n",
    "                                                            # necessários para um split exato\n",
    "        timeframe_bands = np.empty([num_timeframes,num_bands]) #Criando array que receberá as transformadas\n",
    "        for j,fft_window in enumerate(fft_windows):\n",
    "            aux = np.split(np.append(fft_window,np.zeros(add_bands_zero)),num_bands) # Adicionando os zeros \n",
    "                                                                                     #necessários e splitando\n",
    "            timeframe_bands[j] = average(aux) #Tirando a média de cada banda de energia e montando o array \n",
    "        \n",
    "        ch_fngrprnt = treat(timeframe_bands) # Gerando o fingerprint em si a partir das bandas\n",
    "\n",
    "        fngrprnt[k] = ch_fngrprnt #Montando o fingerprint do canal k \n",
    "    \n",
    "    return fngrprnt        "
   ]
  },
  {
   "cell_type": "code",
   "execution_count": 65,
   "metadata": {},
   "outputs": [],
   "source": [
    "def treat(timeframe_bands)->np.ndarray:\n",
    "    ch_fprint = np.empty([len(timeframe_bands),24])\n",
    "    bands_frame_anterior = np.zeros(24)\n",
    "    aux = np.empty(24)\n",
    "    for j,frame in enumerate(timeframe_bands):\n",
    "        \n",
    "        for i in range(len(frame)-1):\n",
    "            aux[i] = frame[i] - frame[i+1]\n",
    "            \n",
    "            if(aux[i]>bands_frame_anterior[i]):\n",
    "                ch_fprint[j][i] = int(1)\n",
    "            else: \n",
    "                ch_fprint[j][i] = int(-1)\n",
    "            bands_frame_anterior[i] = aux[i]\n",
    "    \n",
    "    \n",
    "     \n",
    "    return ch_fprint[1:]"
   ]
  },
  {
   "cell_type": "code",
   "execution_count": 66,
   "metadata": {},
   "outputs": [],
   "source": [
    "def average(array_list):\n",
    "    tam = len(array_list[0])\n",
    "    soma = 0.\n",
    "    aux = np.empty([len(array_list),])\n",
    "    for j,ary in enumerate(array_list):\n",
    "        for i in ary:\n",
    "            soma += i\n",
    "        aux[j] = soma/tam\n",
    "\n",
    "    return aux"
   ]
  },
  {
   "cell_type": "markdown",
   "metadata": {},
   "source": [
    "## FFT de Rodrigo"
   ]
  },
  {
   "cell_type": "code",
   "execution_count": 67,
   "metadata": {},
   "outputs": [],
   "source": [
    "# def fft(f,N)->list:\n",
    "\n",
    "#     # if there is only one item in the array, return THE ARRAY\n",
    "#     if N <= 1:\n",
    "#         return f\n",
    "\n",
    "#     # generate inverted roots of unit (remember the formula of the terms)\n",
    "#     theta = -2*pi/N\n",
    "#     w = list( complex(cos(theta*k),sin(theta*k))  for k in range(N) ) \n",
    "    \n",
    "#     # separate even and odd coefficients\n",
    "#     Ceven = fft(f[0::2],N//2)\n",
    "#     Codd =  fft(f[1::2],N//2)\n",
    "    \n",
    "#     # array to hold the coefficients\n",
    "#     C = [0]*N\n",
    "\n",
    "#     # middle of the array\n",
    "#     middle = N//2\n",
    "#     for k in range(middle):\n",
    "#         c_even   =    Ceven[k]\n",
    "#         w_c_odd  =  w[k]*Codd[k]\n",
    "        \n",
    "#         C[k]          = c_even + w_c_odd\n",
    "#         C[k + middle] = c_even - w_c_odd\n",
    "\n",
    "#     return C"
   ]
  },
  {
   "cell_type": "markdown",
   "metadata": {},
   "source": [
    "## DFT que eu fiz baseada na FFT de Rodrigo"
   ]
  },
  {
   "cell_type": "code",
   "execution_count": 68,
   "metadata": {},
   "outputs": [],
   "source": [
    "def dft(f,time_samples,freq_samples)->list:\n",
    "\n",
    "\n",
    "    # generate inverted roots of unit (remember the formula of the terms)\n",
    "    theta = -2*pi/time_samples\n",
    "    w = list( list(complex(cos(theta*u*k),sin(theta*u*k)) for k in range(time_samples)) for u in range(freq_samples)) \n",
    "    \n",
    "    C = [0]*freq_samples\n",
    "\n",
    "    for u in range(freq_samples):\n",
    "        for k in range(time_samples):\n",
    "            C[u] += f[k]*w[u][k]/time_samples\n",
    "\n",
    "    return C"
   ]
  },
  {
   "cell_type": "markdown",
   "metadata": {},
   "source": [
    "## Código feito por Rodrigo para plotar a fft"
   ]
  },
  {
   "cell_type": "code",
   "execution_count": 69,
   "metadata": {},
   "outputs": [],
   "source": [
    "# def plot_transform(samples,coeff = None, coeff2 = None):\n",
    "#     if coeff is None and coeff2 is None:\n",
    "#         coeff = fft(samples,len(samples))\n",
    "#         coeff2 = dft(samples,len(samples),len(samples))\n",
    "        \n",
    "#     N = len(coeff)\n",
    "#     coeff = list(abs(Complex)/N for Complex in coeff)\n",
    "#     coeff2 = list(abs(Complex)/N for Complex in coeff2)\n",
    "\n",
    "    \n",
    "#     figura = plt.figure(num=None, figsize=(10, 2), dpi=360, facecolor='w', edgecolor='k')\n",
    "#     ax = figura.add_axes([0,0,1,1])\n",
    "    \n",
    "#     frequencies = ['cte'] + list( str(i) for i in range(1,N))\n",
    "#     ax.bar(frequencies,coeff)\n",
    "#     plt.show()\n",
    "\n",
    "#     figura2 = plt.figure(num=None, figsize=(10, 2), dpi=360, facecolor='w', edgecolor='k')\n",
    "#     ax = figura2.add_axes([0,0,1,1])\n",
    "#     ax.bar(frequencies,coeff2)\n",
    "#     plt.show()\n",
    "\n",
    "#     figura3 = plt.figure(num=None, figsize=(10, 2), dpi=360, facecolor='w', edgecolor='k')\n",
    "#     ax = figura3.add_axes([0,0,1,1])\n",
    "#     coeff3 = : fft() missifft(samples)\n",
    "#     ax.bar(frequencies,coeff3)\n",
    "#     plt.show()\n",
    "\n",
    "#     figura4 = plt.figure(num=None, figsize=(12, 3), dpi=360, facecolor='w', edgecolor='k')\n",
    "#     ax = figura4.add_axes([0,0,1,1])\n",
    "#     ax.bar(list(range(len(samples))), samples)\n",
    "#     plt.show()\n"
   ]
  },
  {
   "cell_type": "markdown",
   "metadata": {},
   "source": [
    "## Codigo feito por Rodrigo para gerar uma função periódica"
   ]
  },
  {
   "cell_type": "code",
   "execution_count": 70,
   "metadata": {},
   "outputs": [],
   "source": [
    "# auxiliar to be an array of y(t) values for some points\n",
    "# this will help us check if fft works by transforming periodic functions \n",
    "class exp:\n",
    "    def __init__(self,frequency = None):\n",
    "        self.f = frequency\n",
    "        if frequency is not None:\n",
    "            self.function = lambda t: complex(cos(2*pi*frequency*t),sin(2*pi*frequency*t))\n",
    "        self.measurements = None\n",
    "        self.N_samples = 32\n",
    "\n",
    "    def measure(self, N_samples = 32):\n",
    "        self.N_samples = N_samples\n",
    "        self.measurements = list(self.function(t) for t in range(N_samples) )\n",
    "        return  self.measurements\n",
    "        \n",
    "    def __add__(self,other):\n",
    "\n",
    "        if self.measurements is None:\n",
    "            self.measure()\n",
    "        if (other.measurements is None) or (self.N_samples == other.N_samples):\n",
    "            other.measure(self.N_samples)\n",
    "        \n",
    "        result = exp()\n",
    "        result.N_samples = self.N_samples\n",
    "        result.measurements = [0]*self.N_samples\n",
    "        result.function = lambda t:( self.function(t) + other.function(t) )\n",
    "\n",
    "        result.measure()\n",
    "\n",
    "        return result"
   ]
  },
  {
   "cell_type": "markdown",
   "metadata": {},
   "source": [
    "## Execução"
   ]
  },
  {
   "cell_type": "code",
   "execution_count": 95,
   "metadata": {},
   "outputs": [
    {
     "name": "stderr",
     "output_type": "stream",
     "text": [
      "/tmp/ipykernel_11971/3166406278.py:20: ComplexWarning: Casting complex values to real discards the imaginary part\n",
      "  fft_windows[i] = fft(window) #Montando os frames transformados\n"
     ]
    },
    {
     "name": "stdout",
     "output_type": "stream",
     "text": [
      "(1, 1095, 24)\n",
      "[[[-1.  1.  1. ...  1. -1.  1.]\n",
      "  [ 1.  1.  1. ...  1.  1.  1.]\n",
      "  [-1. -1. -1. ... -1. -1. -1.]\n",
      "  ...\n",
      "  [-1. -1.  1. ...  1. -1.  1.]\n",
      "  [-1. -1. -1. ... -1. -1. -1.]\n",
      "  [-1. -1. -1. ... -1. -1. -1.]]]\n",
      "(24, 24)\n"
     ]
    },
    {
     "data": {
      "image/png": "[encoded data removed]",
      "text/plain": [
       "<Figure size 576x432 with 1 Axes>"
      ]
     },
     "metadata": {
      "needs_background": "light"
     },
     "output_type": "display_data"
    }
   ],
   "source": [
    "sample, sample_rate = librosa.load(\"consegui.wav\", sr=None, mono=False) #Carrega o arquivo\n",
    "fing = fingerprint([sample],sample_rate,1,len(sample)) #Faz a fingerprint\n",
    "print(np.shape(fing))\n",
    "print(fing)\n",
    "#### Tentando plotar e falhando miseravelmente ####\n",
    "#figura = plt.figure(num=None, figsize=(10, 2), dpi=360, facecolor='w', edgecolor='k')\n",
    "#ax = figura.add_axes([0,0,1,1])\n",
    "\n",
    "#ax.plot(,)\n",
    "#plt.show()\n",
    "plotar = fing[0][:24]\n",
    "#### Aqui é caso alguem queira testar o fft de Rodrigo ####\n",
    "fig, ax = plt.subplots(figsize=(8, 6))\n",
    "im = ax.imshow(plotar)\n",
    "print(np.shape(plotar))\n",
    "# Show all ticks and label them with the respective list entries\n",
    "ax.set_xticks(np.arange(24))\n",
    "ax.set_yticks(np.arange(24))\n",
    "\n",
    "# Loop over data dimensions and create text annotations.\n",
    "for i in range(24):\n",
    "    for j in range(24):\n",
    "        text = ax.text(j, i, plotar[i, j],\n",
    "                       ha=\"center\", va=\"center\", color=\"w\")\n",
    "\n",
    "ax.set_title(\"Resultado fp\")\n",
    "fig.tight_layout()\n",
    "plt.show()\n",
    "fig.savefig(\"Resultado.png\", format=\"png\")\n",
    "# # had problems doing operator '*' overloading\n",
    "# # e = 2*e1 +          3*e2      +   e3 + 3*e10 + e22\n",
    "# e = e1 + e1    +    e2+e2+e2     +   e3  +  e10 +e10+e10  + e22\n",
    "#plot_transform(e.measurements)"
   ]
  }
 ],
 "metadata": {
  "kernelspec": {
   "display_name": "Python 3 (ipykernel)",
   "language": "python",
   "name": "python3"
  },
  "language_info": {
   "codemirror_mode": {
    "name": "ipython",
    "version": 3
   },
   "file_extension": ".py",
   "mimetype": "text/x-python",
   "name": "python",
   "nbconvert_exporter": "python",
   "pygments_lexer": "ipython3",
   "version": "3.8.10"
  }
 },
 "nbformat": 4,
 "nbformat_minor": 4
}
