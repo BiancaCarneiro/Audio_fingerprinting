{
 "cells": [
  {
   "cell_type": "markdown",
   "metadata": {},
   "source": [
    "## Bibliotecas"
   ]
  },
  {
   "cell_type": "code",
   "execution_count": 1,
   "metadata": {},
   "outputs": [],
   "source": [
    "import librosa \n",
    "import numpy as np\n",
    "from math import pi,sin,cos\n",
    "import scipy\n",
    "from matplotlib import pyplot as plt\n",
    "import librosa.display \n",
    "import pandas as pd\n",
    "import os\n",
    "from spectrogram import to_wav"
   ]
  },
  {
   "cell_type": "markdown",
   "metadata": {},
   "source": [
    "## Fingerprinting e Relacionados"
   ]
  },
  {
   "cell_type": "code",
   "execution_count": 4,
   "metadata": {},
   "outputs": [],
   "source": [
    "def fingerprint(samples, sampling_rate,  channels=2, max_length=0)->np.ndarray:\n",
    "    samples_per_window = int(sampling_rate*0.037) # Quantas samples por window \n",
    "    num_timeframes = int(max_length/samples_per_window) # Descobre quantos frames \n",
    "    num_bands = 25 # 25 bandas, segundo o artigo\n",
    "\n",
    "    fngrprnt = np.empty([channels,num_timeframes-1,num_bands-1],dtype=int) #Declarando o fingerprint\n",
    "    for k,ch in enumerate(samples):\n",
    "        \n",
    "        add_zero = num_timeframes - (max_length % num_timeframes) #Calculando quantos zeros serão \n",
    "                                                                    # necessários para um split exato\n",
    "\n",
    "        ch = np.append(ch,np.zeros(add_zero)) #Adicionando os zeros necessários\n",
    "        \n",
    "        windows = np.split(ch,num_timeframes) #Dividindo a track em frames\n",
    "\n",
    "        fft_windows = np.empty(np.shape(windows), dtype=complex) #Criando array que receberá as transformadas\n",
    "        \n",
    "        for i,window in enumerate(windows):\n",
    "            fft_windows[i] = scipy.fft.fft(window) #Montando os frames transformados\n",
    "            \n",
    "\n",
    "        len_frame = int(len(ch)/num_timeframes)\n",
    "        add_bands_zero = num_bands - (len_frame % num_bands)#Calculando quantos zeros serão \n",
    "                                                            # necessários para um split exato\n",
    "        timeframe_bands = np.empty([num_timeframes,num_bands]) #Criando array que receberá as transformadas\n",
    "        for j,fft_window in enumerate(fft_windows):\n",
    "            aux = np.split(np.append(fft_window,np.zeros(add_bands_zero,dtype=complex)),num_bands) # Adicionando os zeros \n",
    "                                                                                        #necessários e splitando\n",
    "            timeframe_bands[j] = average(aux) #Tirando a média de cada banda de energia e montando o array \n",
    "        \n",
    "        ch_fngrprnt = treat(timeframe_bands) # Gerando o fingerprint em si a partir das bandas\n",
    "\n",
    "        fngrprnt[k] = ch_fngrprnt #Montando o fingerprint do canal k \n",
    "\n",
    "    return fngrprnt        "
   ]
  },
  {
   "cell_type": "code",
   "execution_count": 3,
   "metadata": {},
   "outputs": [],
   "source": [
    "def treat(timeframe_bands)->np.ndarray:\n",
    "    bands = len(timeframe_bands[0]) -1#24\n",
    "    ch_fprint = np.empty([len(timeframe_bands),bands],dtype=int)\n",
    "    bands_frame_anterior = np.zeros(bands)\n",
    "    aux = np.empty(bands)\n",
    "    for j,frame in enumerate(timeframe_bands):\n",
    "        \n",
    "        for i in range(len(frame)-1):\n",
    "            aux[i] = frame[i] - frame[i+1]\n",
    "            \n",
    "            if(aux[i]>bands_frame_anterior[i]):\n",
    "                ch_fprint[j][i] = 1\n",
    "            else: \n",
    "                ch_fprint[j][i] = -1\n",
    "            bands_frame_anterior[i] = aux[i]\n",
    "    \n",
    "    \n",
    "     \n",
    "    return ch_fprint[1:]"
   ]
  },
  {
   "cell_type": "code",
   "execution_count": 4,
   "metadata": {},
   "outputs": [],
   "source": [
    "def average(array_freq):\n",
    "    soma = 0.\n",
    "    aux = np.empty([len(array_freq),])\n",
    "    for j,ary in enumerate(array_freq):\n",
    "        for i in ary:\n",
    "            soma += abs(i)**2 #Energia em nessa frequencia\n",
    "        aux[j] = soma\n",
    "\n",
    "    return aux"
   ]
  },
  {
   "cell_type": "markdown",
   "metadata": {},
   "source": [
    "## Criar database"
   ]
  },
  {
   "cell_type": "code",
   "execution_count": 17,
   "metadata": {},
   "outputs": [],
   "source": [
    "def create_database():\n",
    "    data = {\n",
    "            \"Fingerprint\": [],\n",
    "            \"Name\" : []\n",
    "        }\n",
    "    \n",
    "    mp3s = os.listdir(\"mp3\") # Lista o nome dos arquivos dentro da pasta mp3\n",
    "    count = 0\n",
    "    #mp3s = os.listdir(\"wav\")\n",
    "    for name in mp3s:\n",
    "        mp3_path = \"mp3/\" + name\n",
    "        name_musica = name[:-4]\n",
    "        wav_path = to_wav(mp3_path, name[:-4])\n",
    "        sample, sample_rate = librosa.load(wav_path, sr=None) #Carrega o arquivo\n",
    "        fing = fingerprint([sample],sample_rate,1,len(sample))\n",
    "        print(np.shape(fing))\n",
    "        data[\"Fingerprint\"].append(fing[0].tolist())\n",
    "        name_musica = name_musica.replace(\"_\", \" \")\n",
    "        name_musica = name_musica.replace(\"-\", \" \")\n",
    "        data[\"Name\"].append(name_musica.lower())\n",
    "        os.remove(wav_path)\n",
    "    \n",
    "    df = pd.DataFrame.from_dict(data)\n",
    "    df.to_csv(\"Fingerprint_database.csv\", index=False)"
   ]
  },
  {
   "cell_type": "code",
   "execution_count": 18,
   "metadata": {},
   "outputs": [
    {
     "name": "stdout",
     "output_type": "stream",
     "text": [
      "(1, 5547, 24)\n",
      "(1, 7409, 24)\n",
      "(1, 4446, 24)\n",
      "(1, 6742, 24)\n",
      "(1, 9041, 24)\n",
      "(1, 7683, 24)\n",
      "(1, 7214, 24)\n",
      "(1, 8162, 24)\n",
      "(1, 5586, 24)\n",
      "(1, 7973, 24)\n",
      "(1, 4344, 24)\n",
      "(1, 6548, 24)\n",
      "(1, 4876, 24)\n",
      "(1, 6042, 24)\n",
      "(1, 5427, 24)\n",
      "(1, 6731, 24)\n",
      "(1, 4944, 24)\n",
      "(1, 7529, 24)\n",
      "(1, 6836, 24)\n",
      "(1, 6644, 24)\n",
      "(1, 5795, 24)\n",
      "(1, 7349, 24)\n",
      "(1, 5683, 24)\n",
      "(1, 4917, 24)\n",
      "(1, 7439, 24)\n",
      "(1, 5723, 24)\n",
      "(1, 6867, 24)\n",
      "(1, 2685, 24)\n",
      "(1, 6462, 24)\n",
      "(1, 5189, 24)\n"
     ]
    },
    {
     "data": {
      "text/html": [
       "<div>\n",
       "<style scoped>\n",
       "    .dataframe tbody tr th:only-of-type {\n",
       "        vertical-align: middle;\n",
       "    }\n",
       "\n",
       "    .dataframe tbody tr th {\n",
       "        vertical-align: top;\n",
       "    }\n",
       "\n",
       "    .dataframe thead th {\n",
       "        text-align: right;\n",
       "    }\n",
       "</style>\n",
       "<table border=\"1\" class=\"dataframe\">\n",
       "  <thead>\n",
       "    <tr style=\"text-align: right;\">\n",
       "      <th></th>\n",
       "      <th>Fingerprint</th>\n",
       "      <th>Name</th>\n",
       "    </tr>\n",
       "  </thead>\n",
       "  <tbody>\n",
       "    <tr>\n",
       "      <th>count</th>\n",
       "      <td>30</td>\n",
       "      <td>30</td>\n",
       "    </tr>\n",
       "    <tr>\n",
       "      <th>unique</th>\n",
       "      <td>30</td>\n",
       "      <td>30</td>\n",
       "    </tr>\n",
       "    <tr>\n",
       "      <th>top</th>\n",
       "      <td>[[-1, -1, -1, -1, -1, -1, -1, -1, -1, -1, -1, ...</td>\n",
       "      <td>One_For_the_Road</td>\n",
       "    </tr>\n",
       "    <tr>\n",
       "      <th>freq</th>\n",
       "      <td>1</td>\n",
       "      <td>1</td>\n",
       "    </tr>\n",
       "  </tbody>\n",
       "</table>\n",
       "</div>"
      ],
      "text/plain": [
       "                                              Fingerprint              Name\n",
       "count                                                  30                30\n",
       "unique                                                 30                30\n",
       "top     [[-1, -1, -1, -1, -1, -1, -1, -1, -1, -1, -1, ...  One_For_the_Road\n",
       "freq                                                    1                 1"
      ]
     },
     "execution_count": 18,
     "metadata": {},
     "output_type": "execute_result"
    }
   ],
   "source": [
    "# create_database()\n",
    "df = pd.read_csv(\"Fingerprint_database.csv\")\n",
    "df\n",
    "df.describe()"
   ]
  },
  {
   "cell_type": "markdown",
   "metadata": {},
   "source": [
    "## Execução"
   ]
  },
  {
   "cell_type": "code",
   "execution_count": 7,
   "metadata": {},
   "outputs": [
    {
     "ename": "AttributeError",
     "evalue": "'str' object has no attribute 'T'",
     "output_type": "error",
     "traceback": [
      "\u001b[0;31m---------------------------------------------------------------------------\u001b[0m",
      "\u001b[0;31mAttributeError\u001b[0m                            Traceback (most recent call last)",
      "\u001b[0;32m/tmp/ipykernel_21779/2287501402.py\u001b[0m in \u001b[0;36m<module>\u001b[0;34m\u001b[0m\n\u001b[1;32m      4\u001b[0m \u001b[0mplotar\u001b[0m \u001b[0;34m=\u001b[0m \u001b[0mfing\u001b[0m\u001b[0;34m[\u001b[0m\u001b[0;36m0\u001b[0m\u001b[0;34m]\u001b[0m\u001b[0;34m\u001b[0m\u001b[0;34m\u001b[0m\u001b[0m\n\u001b[1;32m      5\u001b[0m \u001b[0mfig\u001b[0m\u001b[0;34m,\u001b[0m \u001b[0;34m(\u001b[0m\u001b[0max\u001b[0m\u001b[0;34m,\u001b[0m\u001b[0mspec\u001b[0m\u001b[0;34m)\u001b[0m \u001b[0;34m=\u001b[0m \u001b[0mplt\u001b[0m\u001b[0;34m.\u001b[0m\u001b[0msubplots\u001b[0m\u001b[0;34m(\u001b[0m\u001b[0;36m2\u001b[0m\u001b[0;34m,\u001b[0m\u001b[0;36m1\u001b[0m\u001b[0;34m)\u001b[0m\u001b[0;34m\u001b[0m\u001b[0;34m\u001b[0m\u001b[0m\n\u001b[0;32m----> 6\u001b[0;31m \u001b[0mim\u001b[0m \u001b[0;34m=\u001b[0m \u001b[0max\u001b[0m\u001b[0;34m.\u001b[0m\u001b[0mimshow\u001b[0m\u001b[0;34m(\u001b[0m\u001b[0mplotar\u001b[0m\u001b[0;34m.\u001b[0m\u001b[0mT\u001b[0m\u001b[0;34m)\u001b[0m\u001b[0;34m\u001b[0m\u001b[0;34m\u001b[0m\u001b[0m\n\u001b[0m\u001b[1;32m      7\u001b[0m \u001b[0;34m\u001b[0m\u001b[0m\n\u001b[1;32m      8\u001b[0m \u001b[0;31m# Show ticks\u001b[0m\u001b[0;34m\u001b[0m\u001b[0;34m\u001b[0m\u001b[0;34m\u001b[0m\u001b[0m\n",
      "\u001b[0;31mAttributeError\u001b[0m: 'str' object has no attribute 'T'"
     ]
    },
    {
     "data": {
      "image/png": "[encoded data removed]",
      "text/plain": [
       "<Figure size 432x288 with 2 Axes>"
      ]
     },
     "metadata": {
      "needs_background": "light"
     },
     "output_type": "display_data"
    }
   ],
   "source": [
    "\n",
    "df = pd.read_csv(\"Fingerprint_database.csv\")\n",
    "fing = df[\"Fingerprint\"].iloc(0)\n",
    "\n",
    "plotar = fing[0]\n",
    "fig, (ax,spec) = plt.subplots(2,1)\n",
    "im = ax.imshow(plotar.T)\n",
    "\n",
    "# Show ticks\n",
    "(x,y)=np.shape(plotar)\n",
    "ax.set_xticks(np.arange(0,x,step=100))\n",
    "ax.set_yticks(np.arange(0,y,step=12))\n",
    "\n",
    "\n",
    "plt.show()\n",
    "fig.savefig(nome + \".png\", format=\"png\")\n"
   ]
  }
 ],
 "metadata": {
  "kernelspec": {
   "display_name": "Python 3",
   "language": "python",
   "name": "python3"
  },
  "language_info": {
   "codemirror_mode": {
    "name": "ipython",
    "version": 3
   },
   "file_extension": ".py",
   "mimetype": "text/x-python",
   "name": "python",
   "nbconvert_exporter": "python",
   "pygments_lexer": "ipython3",
   "version": "3.8.10"
  }
 },
 "nbformat": 4,
 "nbformat_minor": 4
}
